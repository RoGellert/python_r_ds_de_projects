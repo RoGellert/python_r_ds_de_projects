{
 "cells": [
  {
   "cell_type": "code",
   "execution_count": 12,
   "id": "initial_id",
   "metadata": {
    "collapsed": true,
    "ExecuteTime": {
     "end_time": "2023-11-19T14:42:04.939932Z",
     "start_time": "2023-11-19T14:42:04.908579800Z"
    }
   },
   "outputs": [],
   "source": [
    "import pandas as pd\n",
    "import seaborn as sb"
   ]
  },
  {
   "cell_type": "markdown",
   "source": [
    "### Source of the data: https://www.kaggle.com/datasets/nelgiriyewithana/billionaires-statistics-dataset"
   ],
   "metadata": {
    "collapsed": false
   },
   "id": "9ddb2c47a2cb1440"
  },
  {
   "cell_type": "code",
   "execution_count": 6,
   "outputs": [
    {
     "data": {
      "text/plain": "   rank  finalWorth               category                 personName   age  \\\n0     1      211000       Fashion & Retail   Bernard Arnault & family  74.0   \n1     2      180000             Automotive                  Elon Musk  51.0   \n2     3      114000             Technology                 Jeff Bezos  59.0   \n3     4      107000             Technology              Larry Ellison  78.0   \n4     5      106000  Finance & Investments             Warren Buffett  92.0   \n5     6      104000             Technology                 Bill Gates  67.0   \n6     7       94500  Media & Entertainment          Michael Bloomberg  81.0   \n7     8       93000                Telecom  Carlos Slim Helu & family  83.0   \n8     9       83400            Diversified              Mukesh Ambani  65.0   \n9    10       80700             Technology              Steve Ballmer  67.0   \n\n         country         city              source             industries  \\\n0         France        Paris                LVMH       Fashion & Retail   \n1  United States       Austin       Tesla, SpaceX             Automotive   \n2  United States       Medina              Amazon             Technology   \n3  United States        Lanai              Oracle             Technology   \n4  United States        Omaha  Berkshire Hathaway  Finance & Investments   \n5  United States       Medina           Microsoft             Technology   \n6  United States     New York        Bloomberg LP  Media & Entertainment   \n7         Mexico  Mexico City             Telecom                Telecom   \n8          India       Mumbai         Diversified            Diversified   \n9  United States  Hunts Point           Microsoft             Technology   \n\n  countryOfCitizenship  ... cpi_change_country           gdp_country  \\\n0               France  ...                1.1   $2,715,518,274,227    \n1        United States  ...                7.5  $21,427,700,000,000    \n2        United States  ...                7.5  $21,427,700,000,000    \n3        United States  ...                7.5  $21,427,700,000,000    \n4        United States  ...                7.5  $21,427,700,000,000    \n5        United States  ...                7.5  $21,427,700,000,000    \n6        United States  ...                7.5  $21,427,700,000,000    \n7               Mexico  ...                3.6   $1,258,286,717,125    \n8                India  ...                7.7   $2,611,000,000,000    \n9        United States  ...                7.5  $21,427,700,000,000    \n\n  gross_tertiary_education_enrollment  \\\n0                                65.6   \n1                                88.2   \n2                                88.2   \n3                                88.2   \n4                                88.2   \n5                                88.2   \n6                                88.2   \n7                                40.2   \n8                                28.1   \n9                                88.2   \n\n  gross_primary_education_enrollment_country life_expectancy_country  \\\n0                                      102.5                    82.5   \n1                                      101.8                    78.5   \n2                                      101.8                    78.5   \n3                                      101.8                    78.5   \n4                                      101.8                    78.5   \n5                                      101.8                    78.5   \n6                                      101.8                    78.5   \n7                                      105.8                    75.0   \n8                                      113.0                    69.4   \n9                                      101.8                    78.5   \n\n  tax_revenue_country_country total_tax_rate_country population_country  \\\n0                        24.2                   60.7       6.705989e+07   \n1                         9.6                   36.6       3.282395e+08   \n2                         9.6                   36.6       3.282395e+08   \n3                         9.6                   36.6       3.282395e+08   \n4                         9.6                   36.6       3.282395e+08   \n5                         9.6                   36.6       3.282395e+08   \n6                         9.6                   36.6       3.282395e+08   \n7                        13.1                   55.1       1.260140e+08   \n8                        11.2                   49.7       1.366418e+09   \n9                         9.6                   36.6       3.282395e+08   \n\n  latitude_country longitude_country  \n0        46.227638          2.213749  \n1        37.090240        -95.712891  \n2        37.090240        -95.712891  \n3        37.090240        -95.712891  \n4        37.090240        -95.712891  \n5        37.090240        -95.712891  \n6        37.090240        -95.712891  \n7        23.634501       -102.552784  \n8        20.593684         78.962880  \n9        37.090240        -95.712891  \n\n[10 rows x 35 columns]",
      "text/html": "<div>\n<style scoped>\n    .dataframe tbody tr th:only-of-type {\n        vertical-align: middle;\n    }\n\n    .dataframe tbody tr th {\n        vertical-align: top;\n    }\n\n    .dataframe thead th {\n        text-align: right;\n    }\n</style>\n<table border=\"1\" class=\"dataframe\">\n  <thead>\n    <tr style=\"text-align: right;\">\n      <th></th>\n      <th>rank</th>\n      <th>finalWorth</th>\n      <th>category</th>\n      <th>personName</th>\n      <th>age</th>\n      <th>country</th>\n      <th>city</th>\n      <th>source</th>\n      <th>industries</th>\n      <th>countryOfCitizenship</th>\n      <th>...</th>\n      <th>cpi_change_country</th>\n      <th>gdp_country</th>\n      <th>gross_tertiary_education_enrollment</th>\n      <th>gross_primary_education_enrollment_country</th>\n      <th>life_expectancy_country</th>\n      <th>tax_revenue_country_country</th>\n      <th>total_tax_rate_country</th>\n      <th>population_country</th>\n      <th>latitude_country</th>\n      <th>longitude_country</th>\n    </tr>\n  </thead>\n  <tbody>\n    <tr>\n      <th>0</th>\n      <td>1</td>\n      <td>211000</td>\n      <td>Fashion &amp; Retail</td>\n      <td>Bernard Arnault &amp; family</td>\n      <td>74.0</td>\n      <td>France</td>\n      <td>Paris</td>\n      <td>LVMH</td>\n      <td>Fashion &amp; Retail</td>\n      <td>France</td>\n      <td>...</td>\n      <td>1.1</td>\n      <td>$2,715,518,274,227</td>\n      <td>65.6</td>\n      <td>102.5</td>\n      <td>82.5</td>\n      <td>24.2</td>\n      <td>60.7</td>\n      <td>6.705989e+07</td>\n      <td>46.227638</td>\n      <td>2.213749</td>\n    </tr>\n    <tr>\n      <th>1</th>\n      <td>2</td>\n      <td>180000</td>\n      <td>Automotive</td>\n      <td>Elon Musk</td>\n      <td>51.0</td>\n      <td>United States</td>\n      <td>Austin</td>\n      <td>Tesla, SpaceX</td>\n      <td>Automotive</td>\n      <td>United States</td>\n      <td>...</td>\n      <td>7.5</td>\n      <td>$21,427,700,000,000</td>\n      <td>88.2</td>\n      <td>101.8</td>\n      <td>78.5</td>\n      <td>9.6</td>\n      <td>36.6</td>\n      <td>3.282395e+08</td>\n      <td>37.090240</td>\n      <td>-95.712891</td>\n    </tr>\n    <tr>\n      <th>2</th>\n      <td>3</td>\n      <td>114000</td>\n      <td>Technology</td>\n      <td>Jeff Bezos</td>\n      <td>59.0</td>\n      <td>United States</td>\n      <td>Medina</td>\n      <td>Amazon</td>\n      <td>Technology</td>\n      <td>United States</td>\n      <td>...</td>\n      <td>7.5</td>\n      <td>$21,427,700,000,000</td>\n      <td>88.2</td>\n      <td>101.8</td>\n      <td>78.5</td>\n      <td>9.6</td>\n      <td>36.6</td>\n      <td>3.282395e+08</td>\n      <td>37.090240</td>\n      <td>-95.712891</td>\n    </tr>\n    <tr>\n      <th>3</th>\n      <td>4</td>\n      <td>107000</td>\n      <td>Technology</td>\n      <td>Larry Ellison</td>\n      <td>78.0</td>\n      <td>United States</td>\n      <td>Lanai</td>\n      <td>Oracle</td>\n      <td>Technology</td>\n      <td>United States</td>\n      <td>...</td>\n      <td>7.5</td>\n      <td>$21,427,700,000,000</td>\n      <td>88.2</td>\n      <td>101.8</td>\n      <td>78.5</td>\n      <td>9.6</td>\n      <td>36.6</td>\n      <td>3.282395e+08</td>\n      <td>37.090240</td>\n      <td>-95.712891</td>\n    </tr>\n    <tr>\n      <th>4</th>\n      <td>5</td>\n      <td>106000</td>\n      <td>Finance &amp; Investments</td>\n      <td>Warren Buffett</td>\n      <td>92.0</td>\n      <td>United States</td>\n      <td>Omaha</td>\n      <td>Berkshire Hathaway</td>\n      <td>Finance &amp; Investments</td>\n      <td>United States</td>\n      <td>...</td>\n      <td>7.5</td>\n      <td>$21,427,700,000,000</td>\n      <td>88.2</td>\n      <td>101.8</td>\n      <td>78.5</td>\n      <td>9.6</td>\n      <td>36.6</td>\n      <td>3.282395e+08</td>\n      <td>37.090240</td>\n      <td>-95.712891</td>\n    </tr>\n    <tr>\n      <th>5</th>\n      <td>6</td>\n      <td>104000</td>\n      <td>Technology</td>\n      <td>Bill Gates</td>\n      <td>67.0</td>\n      <td>United States</td>\n      <td>Medina</td>\n      <td>Microsoft</td>\n      <td>Technology</td>\n      <td>United States</td>\n      <td>...</td>\n      <td>7.5</td>\n      <td>$21,427,700,000,000</td>\n      <td>88.2</td>\n      <td>101.8</td>\n      <td>78.5</td>\n      <td>9.6</td>\n      <td>36.6</td>\n      <td>3.282395e+08</td>\n      <td>37.090240</td>\n      <td>-95.712891</td>\n    </tr>\n    <tr>\n      <th>6</th>\n      <td>7</td>\n      <td>94500</td>\n      <td>Media &amp; Entertainment</td>\n      <td>Michael Bloomberg</td>\n      <td>81.0</td>\n      <td>United States</td>\n      <td>New York</td>\n      <td>Bloomberg LP</td>\n      <td>Media &amp; Entertainment</td>\n      <td>United States</td>\n      <td>...</td>\n      <td>7.5</td>\n      <td>$21,427,700,000,000</td>\n      <td>88.2</td>\n      <td>101.8</td>\n      <td>78.5</td>\n      <td>9.6</td>\n      <td>36.6</td>\n      <td>3.282395e+08</td>\n      <td>37.090240</td>\n      <td>-95.712891</td>\n    </tr>\n    <tr>\n      <th>7</th>\n      <td>8</td>\n      <td>93000</td>\n      <td>Telecom</td>\n      <td>Carlos Slim Helu &amp; family</td>\n      <td>83.0</td>\n      <td>Mexico</td>\n      <td>Mexico City</td>\n      <td>Telecom</td>\n      <td>Telecom</td>\n      <td>Mexico</td>\n      <td>...</td>\n      <td>3.6</td>\n      <td>$1,258,286,717,125</td>\n      <td>40.2</td>\n      <td>105.8</td>\n      <td>75.0</td>\n      <td>13.1</td>\n      <td>55.1</td>\n      <td>1.260140e+08</td>\n      <td>23.634501</td>\n      <td>-102.552784</td>\n    </tr>\n    <tr>\n      <th>8</th>\n      <td>9</td>\n      <td>83400</td>\n      <td>Diversified</td>\n      <td>Mukesh Ambani</td>\n      <td>65.0</td>\n      <td>India</td>\n      <td>Mumbai</td>\n      <td>Diversified</td>\n      <td>Diversified</td>\n      <td>India</td>\n      <td>...</td>\n      <td>7.7</td>\n      <td>$2,611,000,000,000</td>\n      <td>28.1</td>\n      <td>113.0</td>\n      <td>69.4</td>\n      <td>11.2</td>\n      <td>49.7</td>\n      <td>1.366418e+09</td>\n      <td>20.593684</td>\n      <td>78.962880</td>\n    </tr>\n    <tr>\n      <th>9</th>\n      <td>10</td>\n      <td>80700</td>\n      <td>Technology</td>\n      <td>Steve Ballmer</td>\n      <td>67.0</td>\n      <td>United States</td>\n      <td>Hunts Point</td>\n      <td>Microsoft</td>\n      <td>Technology</td>\n      <td>United States</td>\n      <td>...</td>\n      <td>7.5</td>\n      <td>$21,427,700,000,000</td>\n      <td>88.2</td>\n      <td>101.8</td>\n      <td>78.5</td>\n      <td>9.6</td>\n      <td>36.6</td>\n      <td>3.282395e+08</td>\n      <td>37.090240</td>\n      <td>-95.712891</td>\n    </tr>\n  </tbody>\n</table>\n<p>10 rows × 35 columns</p>\n</div>"
     },
     "execution_count": 6,
     "metadata": {},
     "output_type": "execute_result"
    }
   ],
   "source": [
    "billionaires_df = pd.read_csv(\"Billionaires Statistics Dataset.csv\")\n",
    "billionaires_df.head(10)"
   ],
   "metadata": {
    "collapsed": false,
    "ExecuteTime": {
     "end_time": "2023-11-19T14:37:34.478117100Z",
     "start_time": "2023-11-19T14:37:34.326755Z"
    }
   },
   "id": "99e8943fbcbf2fe"
  },
  {
   "cell_type": "code",
   "execution_count": 15,
   "outputs": [
    {
     "data": {
      "text/plain": "rank                                            int64\nfinalWorth                                      int64\ncategory                                       object\npersonName                                     object\nage                                           float64\ncountry                                        object\ncity                                           object\nsource                                         object\nindustries                                     object\ncountryOfCitizenship                           object\norganization                                   object\nselfMade                                         bool\nstatus                                         object\ngender                                         object\nbirthDate                                      object\nlastName                                       object\nfirstName                                      object\ntitle                                          object\ndate                                           object\nstate                                          object\nresidenceStateRegion                           object\nbirthYear                                     float64\nbirthMonth                                    float64\nbirthDay                                      float64\ncpi_country                                   float64\ncpi_change_country                            float64\ngdp_country                                    object\ngross_tertiary_education_enrollment           float64\ngross_primary_education_enrollment_country    float64\nlife_expectancy_country                       float64\ntax_revenue_country_country                   float64\ntotal_tax_rate_country                        float64\npopulation_country                            float64\nlatitude_country                              float64\nlongitude_country                             float64\ndtype: object"
     },
     "execution_count": 15,
     "metadata": {},
     "output_type": "execute_result"
    }
   ],
   "source": [
    "billionaires_df.dtypes"
   ],
   "metadata": {
    "collapsed": false,
    "ExecuteTime": {
     "end_time": "2023-11-19T14:42:55.370211400Z",
     "start_time": "2023-11-19T14:42:55.255888300Z"
    }
   },
   "id": "1e28583630cbf9be"
  },
  {
   "cell_type": "code",
   "execution_count": 14,
   "outputs": [
    {
     "data": {
      "text/plain": "str"
     },
     "execution_count": 14,
     "metadata": {},
     "output_type": "execute_result"
    }
   ],
   "source": [
    "type(billionaires_df[\"country\"][0]) "
   ],
   "metadata": {
    "collapsed": false,
    "ExecuteTime": {
     "end_time": "2023-11-19T14:42:34.585828300Z",
     "start_time": "2023-11-19T14:42:34.477417900Z"
    }
   },
   "id": "a7e69da5e50fe1fb"
  },
  {
   "cell_type": "code",
   "execution_count": 16,
   "outputs": [
    {
     "data": {
      "text/plain": "rank                                             0\nfinalWorth                                       0\ncategory                                         0\npersonName                                       0\nage                                             65\ncountry                                         38\ncity                                            72\nsource                                           0\nindustries                                       0\ncountryOfCitizenship                             0\norganization                                  2315\nselfMade                                         0\nstatus                                           0\ngender                                           0\nbirthDate                                       76\nlastName                                         0\nfirstName                                        3\ntitle                                         2301\ndate                                             0\nstate                                         1887\nresidenceStateRegion                          1893\nbirthYear                                       76\nbirthMonth                                      76\nbirthDay                                        76\ncpi_country                                    184\ncpi_change_country                             184\ngdp_country                                    164\ngross_tertiary_education_enrollment            182\ngross_primary_education_enrollment_country     181\nlife_expectancy_country                        182\ntax_revenue_country_country                    183\ntotal_tax_rate_country                         182\npopulation_country                             164\nlatitude_country                               164\nlongitude_country                              164\ndtype: int64"
     },
     "execution_count": 16,
     "metadata": {},
     "output_type": "execute_result"
    }
   ],
   "source": [
    "billionaires_df.isna().sum()"
   ],
   "metadata": {
    "collapsed": false,
    "ExecuteTime": {
     "end_time": "2023-11-19T14:44:56.657893300Z",
     "start_time": "2023-11-19T14:44:56.591627Z"
    }
   },
   "id": "24534ee7bba20c32"
  },
  {
   "cell_type": "code",
   "execution_count": 8,
   "outputs": [
    {
     "data": {
      "text/plain": "              rank     finalWorth          age    birthYear   birthMonth  \\\ncount  2640.000000    2640.000000  2575.000000  2564.000000  2564.000000   \nmean   1289.159091    4623.787879    65.140194  1957.183307     5.740250   \nstd     739.693726    9834.240939    13.258098    13.282516     3.710085   \nmin       1.000000    1000.000000    18.000000  1921.000000     1.000000   \n25%     659.000000    1500.000000    56.000000  1948.000000     2.000000   \n50%    1312.000000    2300.000000    65.000000  1957.000000     6.000000   \n75%    1905.000000    4200.000000    75.000000  1966.000000     9.000000   \nmax    2540.000000  211000.000000   101.000000  2004.000000    12.000000   \n\n          birthDay  cpi_country  cpi_change_country  \\\ncount  2564.000000  2456.000000         2456.000000   \nmean     12.099844   127.755204            4.364169   \nstd       9.918876    26.452951            3.623763   \nmin       1.000000    99.550000           -1.900000   \n25%       1.000000   117.240000            1.700000   \n50%      11.000000   117.240000            2.900000   \n75%      21.000000   125.080000            7.500000   \nmax      31.000000   288.570000           53.500000   \n\n       gross_tertiary_education_enrollment  \\\ncount                          2458.000000   \nmean                             67.225671   \nstd                              21.343426   \nmin                               4.000000   \n25%                              50.600000   \n50%                              65.600000   \n75%                              88.200000   \nmax                             136.600000   \n\n       gross_primary_education_enrollment_country  life_expectancy_country  \\\ncount                                 2459.000000              2458.000000   \nmean                                   102.858520                78.122823   \nstd                                      4.710977                 3.730099   \nmin                                     84.700000                54.300000   \n25%                                    100.200000                77.000000   \n50%                                    101.800000                78.500000   \n75%                                    102.600000                80.900000   \nmax                                    142.100000                84.200000   \n\n       tax_revenue_country_country  total_tax_rate_country  \\\ncount                  2457.000000             2458.000000   \nmean                     12.546235               43.963344   \nstd                       5.368625               12.145296   \nmin                       0.100000                9.900000   \n25%                       9.600000               36.600000   \n50%                       9.600000               41.200000   \n75%                      12.800000               59.100000   \nmax                      37.200000              106.300000   \n\n       population_country  latitude_country  longitude_country  \ncount        2.476000e+03       2476.000000        2476.000000  \nmean         5.102053e+08         34.903592          12.583156  \nstd          5.542447e+08         17.003497          86.762989  \nmin          3.801900e+04        -40.900557        -106.346771  \n25%          6.683440e+07         35.861660         -95.712891  \n50%          3.282395e+08         37.090240          10.451526  \n75%          1.366418e+09         40.463667         104.195397  \nmax          1.397715e+09         61.924110         174.885971  ",
      "text/html": "<div>\n<style scoped>\n    .dataframe tbody tr th:only-of-type {\n        vertical-align: middle;\n    }\n\n    .dataframe tbody tr th {\n        vertical-align: top;\n    }\n\n    .dataframe thead th {\n        text-align: right;\n    }\n</style>\n<table border=\"1\" class=\"dataframe\">\n  <thead>\n    <tr style=\"text-align: right;\">\n      <th></th>\n      <th>rank</th>\n      <th>finalWorth</th>\n      <th>age</th>\n      <th>birthYear</th>\n      <th>birthMonth</th>\n      <th>birthDay</th>\n      <th>cpi_country</th>\n      <th>cpi_change_country</th>\n      <th>gross_tertiary_education_enrollment</th>\n      <th>gross_primary_education_enrollment_country</th>\n      <th>life_expectancy_country</th>\n      <th>tax_revenue_country_country</th>\n      <th>total_tax_rate_country</th>\n      <th>population_country</th>\n      <th>latitude_country</th>\n      <th>longitude_country</th>\n    </tr>\n  </thead>\n  <tbody>\n    <tr>\n      <th>count</th>\n      <td>2640.000000</td>\n      <td>2640.000000</td>\n      <td>2575.000000</td>\n      <td>2564.000000</td>\n      <td>2564.000000</td>\n      <td>2564.000000</td>\n      <td>2456.000000</td>\n      <td>2456.000000</td>\n      <td>2458.000000</td>\n      <td>2459.000000</td>\n      <td>2458.000000</td>\n      <td>2457.000000</td>\n      <td>2458.000000</td>\n      <td>2.476000e+03</td>\n      <td>2476.000000</td>\n      <td>2476.000000</td>\n    </tr>\n    <tr>\n      <th>mean</th>\n      <td>1289.159091</td>\n      <td>4623.787879</td>\n      <td>65.140194</td>\n      <td>1957.183307</td>\n      <td>5.740250</td>\n      <td>12.099844</td>\n      <td>127.755204</td>\n      <td>4.364169</td>\n      <td>67.225671</td>\n      <td>102.858520</td>\n      <td>78.122823</td>\n      <td>12.546235</td>\n      <td>43.963344</td>\n      <td>5.102053e+08</td>\n      <td>34.903592</td>\n      <td>12.583156</td>\n    </tr>\n    <tr>\n      <th>std</th>\n      <td>739.693726</td>\n      <td>9834.240939</td>\n      <td>13.258098</td>\n      <td>13.282516</td>\n      <td>3.710085</td>\n      <td>9.918876</td>\n      <td>26.452951</td>\n      <td>3.623763</td>\n      <td>21.343426</td>\n      <td>4.710977</td>\n      <td>3.730099</td>\n      <td>5.368625</td>\n      <td>12.145296</td>\n      <td>5.542447e+08</td>\n      <td>17.003497</td>\n      <td>86.762989</td>\n    </tr>\n    <tr>\n      <th>min</th>\n      <td>1.000000</td>\n      <td>1000.000000</td>\n      <td>18.000000</td>\n      <td>1921.000000</td>\n      <td>1.000000</td>\n      <td>1.000000</td>\n      <td>99.550000</td>\n      <td>-1.900000</td>\n      <td>4.000000</td>\n      <td>84.700000</td>\n      <td>54.300000</td>\n      <td>0.100000</td>\n      <td>9.900000</td>\n      <td>3.801900e+04</td>\n      <td>-40.900557</td>\n      <td>-106.346771</td>\n    </tr>\n    <tr>\n      <th>25%</th>\n      <td>659.000000</td>\n      <td>1500.000000</td>\n      <td>56.000000</td>\n      <td>1948.000000</td>\n      <td>2.000000</td>\n      <td>1.000000</td>\n      <td>117.240000</td>\n      <td>1.700000</td>\n      <td>50.600000</td>\n      <td>100.200000</td>\n      <td>77.000000</td>\n      <td>9.600000</td>\n      <td>36.600000</td>\n      <td>6.683440e+07</td>\n      <td>35.861660</td>\n      <td>-95.712891</td>\n    </tr>\n    <tr>\n      <th>50%</th>\n      <td>1312.000000</td>\n      <td>2300.000000</td>\n      <td>65.000000</td>\n      <td>1957.000000</td>\n      <td>6.000000</td>\n      <td>11.000000</td>\n      <td>117.240000</td>\n      <td>2.900000</td>\n      <td>65.600000</td>\n      <td>101.800000</td>\n      <td>78.500000</td>\n      <td>9.600000</td>\n      <td>41.200000</td>\n      <td>3.282395e+08</td>\n      <td>37.090240</td>\n      <td>10.451526</td>\n    </tr>\n    <tr>\n      <th>75%</th>\n      <td>1905.000000</td>\n      <td>4200.000000</td>\n      <td>75.000000</td>\n      <td>1966.000000</td>\n      <td>9.000000</td>\n      <td>21.000000</td>\n      <td>125.080000</td>\n      <td>7.500000</td>\n      <td>88.200000</td>\n      <td>102.600000</td>\n      <td>80.900000</td>\n      <td>12.800000</td>\n      <td>59.100000</td>\n      <td>1.366418e+09</td>\n      <td>40.463667</td>\n      <td>104.195397</td>\n    </tr>\n    <tr>\n      <th>max</th>\n      <td>2540.000000</td>\n      <td>211000.000000</td>\n      <td>101.000000</td>\n      <td>2004.000000</td>\n      <td>12.000000</td>\n      <td>31.000000</td>\n      <td>288.570000</td>\n      <td>53.500000</td>\n      <td>136.600000</td>\n      <td>142.100000</td>\n      <td>84.200000</td>\n      <td>37.200000</td>\n      <td>106.300000</td>\n      <td>1.397715e+09</td>\n      <td>61.924110</td>\n      <td>174.885971</td>\n    </tr>\n  </tbody>\n</table>\n</div>"
     },
     "execution_count": 8,
     "metadata": {},
     "output_type": "execute_result"
    }
   ],
   "source": [
    "billionaires_df.describe()"
   ],
   "metadata": {
    "collapsed": false,
    "ExecuteTime": {
     "end_time": "2023-11-19T14:38:40.418583600Z",
     "start_time": "2023-11-19T14:38:40.287833600Z"
    }
   },
   "id": "2e91760620b77d00"
  },
  {
   "cell_type": "markdown",
   "source": [],
   "metadata": {
    "collapsed": false
   },
   "id": "ffaf7f674a9936c8"
  }
 ],
 "metadata": {
  "kernelspec": {
   "display_name": "Python 3",
   "language": "python",
   "name": "python3"
  },
  "language_info": {
   "codemirror_mode": {
    "name": "ipython",
    "version": 2
   },
   "file_extension": ".py",
   "mimetype": "text/x-python",
   "name": "python",
   "nbconvert_exporter": "python",
   "pygments_lexer": "ipython2",
   "version": "2.7.6"
  }
 },
 "nbformat": 4,
 "nbformat_minor": 5
}
